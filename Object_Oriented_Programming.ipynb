{
  "nbformat": 4,
  "nbformat_minor": 0,
  "metadata": {
    "colab": {
      "name": "Object Oriented Programming.ipynb",
      "version": "0.3.2",
      "provenance": [],
      "collapsed_sections": [],
      "toc_visible": true
    },
    "kernelspec": {
      "name": "python3",
      "display_name": "Python 3"
    }
  },
  "cells": [
    {
      "cell_type": "markdown",
      "metadata": {
        "id": "v9bJ__i0KRFO",
        "colab_type": "text"
      },
      "source": [
        "# Object Oriented Programming in Python\n",
        "\n",
        "This tutorial is a transcription of the Object Oriented Programming Lessons provided by the illustrious Corey Schafer on Youtube!\n",
        "\n",
        "\n",
        "*   https://www.youtube.com/watch?v=ZDa-Z5JzLYM"
      ]
    },
    {
      "cell_type": "markdown",
      "metadata": {
        "id": "-EDjxYxZKZSU",
        "colab_type": "text"
      },
      "source": [
        "## Lesson 1: Classes and Instances\n",
        "\n"
      ]
    },
    {
      "cell_type": "markdown",
      "metadata": {
        "id": "ADGzbMLGDpy3",
        "colab_type": "text"
      },
      "source": [
        "### **Class**: a blue print for creating *instances*"
      ]
    },
    {
      "cell_type": "code",
      "metadata": {
        "id": "a59QuKnsKPY8",
        "colab_type": "code",
        "colab": {}
      },
      "source": [
        "class Roman: \n",
        "  pass"
      ],
      "execution_count": 0,
      "outputs": []
    },
    {
      "cell_type": "markdown",
      "metadata": {
        "id": "1bSsFnmwK3iq",
        "colab_type": "text"
      },
      "source": [
        "Each unique person will be an instance of the class **Roman**\n",
        "\n",
        "For example:"
      ]
    },
    {
      "cell_type": "code",
      "metadata": {
        "id": "UfwJQNyJMgv7",
        "colab_type": "code",
        "outputId": "638b5492-a427-482d-9d97-a3df7a4ac3b1",
        "colab": {
          "base_uri": "https://localhost:8080/",
          "height": 50
        }
      },
      "source": [
        "Roman_1 = Roman()\n",
        "Roman_2 = Roman()\n",
        "\n",
        "print (Roman_1)\n",
        "print (Roman_2)\n"
      ],
      "execution_count": 0,
      "outputs": [
        {
          "output_type": "stream",
          "text": [
            "<__main__.Roman object at 0x7f3960f32eb8>\n",
            "<__main__.Roman object at 0x7f3960f32e80>\n"
          ],
          "name": "stdout"
        }
      ]
    },
    {
      "cell_type": "markdown",
      "metadata": {
        "id": "SRlfmnh6NQ9q",
        "colab_type": "text"
      },
      "source": [
        "### Instance variables: contains data that is unique to each instance\n",
        "\n",
        "For example, name, bdate, email, enemies are instance variables"
      ]
    },
    {
      "cell_type": "code",
      "metadata": {
        "id": "2wD_Qs2GObar",
        "colab_type": "code",
        "colab": {}
      },
      "source": [
        "Roman_1.name = 'Marcus Tullius Cicero'\n",
        "Roman_1.bdate = '106 BC'\n",
        "Roman_1.email = 'procaelio@pigeon.com'\n",
        "Roman_1.enemies = ['Mark Antony', 'Julius Caesar']\n",
        " \n",
        "\n",
        "Roman_2.name = 'Publius Ovidius Naso'\n",
        "Roman_2.bdate = '43 BC'\n",
        "Roman_2.email = 'arsamatoria@pigeon.com'\n",
        "Roman_2.enemies = ['Augustus Caesar']\n",
        "\n",
        "print (Roman_1.name)\n",
        "print (Roman_2.name)"
      ],
      "execution_count": 0,
      "outputs": []
    },
    {
      "cell_type": "markdown",
      "metadata": {
        "id": "FWyzFwy3QdzU",
        "colab_type": "text"
      },
      "source": [
        "As shown above, coding classes by hand is time intensive and error-prone\n",
        "\n",
        "### Therefore, to set up classes automatically, we use a special method: init\n",
        "\n",
        "```\n",
        "  def __init__(self)\n",
        "```\n",
        "\n",
        "You can think of this method as \"initialized\" or as the constructor (as in other languages)"
      ]
    },
    {
      "cell_type": "code",
      "metadata": {
        "id": "BdpRwiIed_lC",
        "colab_type": "code",
        "colab": {}
      },
      "source": [
        "class Roman: \n",
        "  def __init__(self, name, bdate, email, enemies):\n",
        "    self.name = name\n",
        "    self.bdate = bdate\n",
        "    self.email = email\n",
        "    self.enemies = enemies\n",
        "    \n",
        "  def namedate(self):\n",
        "    return '{} {}'.format(self.name, self.bdate)"
      ],
      "execution_count": 0,
      "outputs": []
    },
    {
      "cell_type": "markdown",
      "metadata": {
        "id": "sHM-cmkcZozm",
        "colab_type": "text"
      },
      "source": [
        "### When we create methods within a class, they recieve the instance as the first argument automatically. By convention, we call the instance \"self\". Stick to convention, use self.\n",
        "\n",
        "\n",
        "\n",
        "```\n",
        "class Roman:\n",
        "  def __init__(self, \n",
        "```\n",
        "\n",
        "\n",
        "We will add to our code thusly:\n",
        "\n",
        "```\n",
        "class Roman: \n",
        "  def __init__(self, name, bdate, email, enemies):\n",
        "    self.name = name\n",
        "    self.bdate = bdate\n",
        "    self.email = email\n",
        "    self.enemies = ememies\n",
        "```\n",
        "\n",
        "By saying that **self ** is the instance, we mean that setting self.name = name in our code will set Roman_1 = Marcus Tullius Cicero, when we create our Roman objects, automatically. \n",
        "\n",
        "The name of the instance does not have to be the same for instance:\n",
        "\n",
        "\n",
        "\n",
        "```\n",
        "class Roman: \n",
        "  def __init__(self, name, bdate, email, enemies):\n",
        "    self.fullname = name\n",
        "    self.birthdate = bdate\n",
        "    self.contact = email\n",
        "    self.BFFs = ememies\n",
        "```\n",
        "\n",
        "But why would ya do that? Just keep it simple, stupid! Match init labels to the instance variables when possible. "
      ]
    },
    {
      "cell_type": "markdown",
      "metadata": {
        "id": "dWvBn7bWeLFs",
        "colab_type": "text"
      },
      "source": [
        "### Now when we create our instances of our employee class, we can pass through the data easier:\n",
        "\n",
        "\n",
        "\n",
        "* When we create our instance, our Roman_1, there is no need to specify **self** now -- the instance is passed through automatically \n",
        "*   Data must be passed through in the same order it was encoded \n"
      ]
    },
    {
      "cell_type": "code",
      "metadata": {
        "id": "x5M24LsTOfOd",
        "colab_type": "code",
        "outputId": "916f3ee3-6ee4-4018-d74a-1f9162365bd8",
        "colab": {
          "base_uri": "https://localhost:8080/",
          "height": 50
        }
      },
      "source": [
        "Roman_1 = Roman('Marcus Tullius Cicero', '106 BC', 'procaelio@pigeon.com', ['Mark Antony', 'Julius Caesar'])\n",
        "Roman_2 = Roman('Publius Ovidius Naso', '43 BC', 'arsamatoria@pigeon.com', ['Augustus Caesar'])\n",
        "\n",
        "print (Roman_1.enemies)\n",
        "print (Roman_2.enemies)"
      ],
      "execution_count": 0,
      "outputs": [
        {
          "output_type": "stream",
          "text": [
            "['Mark Antony', 'Julius Caesar']\n",
            "['Augustus Caesar']\n"
          ],
          "name": "stdout"
        }
      ]
    },
    {
      "cell_type": "markdown",
      "metadata": {
        "id": "L30D5zCOh-D7",
        "colab_type": "text"
      },
      "source": [
        "When we pass through the information, the init method will be run through automatically. \n",
        "\n",
        "\n",
        "*   Roman_1 will be passed through as self. \n",
        "*   And then all the attributes will be mapped on to the instance variables. "
      ]
    },
    {
      "cell_type": "markdown",
      "metadata": {
        "id": "cAPVQygj8fqH",
        "colab_type": "text"
      },
      "source": [
        "Now lets add methods to our class, such as displaying two factors together \n",
        "\n"
      ]
    },
    {
      "cell_type": "code",
      "metadata": {
        "id": "naHXkDj7irXN",
        "colab_type": "code",
        "outputId": "4e57c09f-b656-4e10-d4b5-7e230d838879",
        "colab": {
          "base_uri": "https://localhost:8080/",
          "height": 33
        }
      },
      "source": [
        "print ('{} {}'.format(Roman_1.name, Roman_1.bdate))"
      ],
      "execution_count": 0,
      "outputs": [
        {
          "output_type": "stream",
          "text": [
            "Marcus Tullius Cicero 106 BC\n"
          ],
          "name": "stdout"
        }
      ]
    },
    {
      "cell_type": "markdown",
      "metadata": {
        "id": "S81PcCio91zc",
        "colab_type": "text"
      },
      "source": [
        "Let's write a function for displaying name & bdate\n",
        "\n",
        "\n",
        "Simply replace the variable** Roman_1** with** self** to create the method and add it to our Roman class\n",
        "\n",
        "\n",
        "```\n",
        "  def name_date(self):\n",
        "    return '{} {}'.format(self.name, self.bdate)\n",
        "```\n",
        "\n"
      ]
    },
    {
      "cell_type": "code",
      "metadata": {
        "id": "FVxySW9H-_Gk",
        "colab_type": "code",
        "outputId": "544b5ee8-85d3-4e5e-fde0-15bfbfece54c",
        "colab": {
          "base_uri": "https://localhost:8080/",
          "height": 33
        }
      },
      "source": [
        "print(Roman_1.namedate())"
      ],
      "execution_count": 0,
      "outputs": [
        {
          "output_type": "stream",
          "text": [
            "Marcus Tullius Cicero 106 BC\n"
          ],
          "name": "stdout"
        }
      ]
    },
    {
      "cell_type": "markdown",
      "metadata": {
        "id": "0lwfYO9o_K47",
        "colab_type": "text"
      },
      "source": [
        "Notice that we need extra parthenses () because this is a **method**, not an attribute\n",
        "\n",
        "If we left them off, running the code would print the method not its product!"
      ]
    },
    {
      "cell_type": "markdown",
      "metadata": {
        "id": "dXqKv_RaBAR8",
        "colab_type": "text"
      },
      "source": [
        "One common mistake is leaving the self instance off of the method, let's see what this does:\n",
        "\n"
      ]
    },
    {
      "cell_type": "code",
      "metadata": {
        "id": "QpX1SkIkBphA",
        "colab_type": "code",
        "outputId": "2e383614-03ea-4801-c9b7-4bf44c3060c8",
        "colab": {
          "base_uri": "https://localhost:8080/",
          "height": 33
        }
      },
      "source": [
        "class Roman: \n",
        "  def __init__(self, name, bdate, email, enemies):\n",
        "    self.name = name\n",
        "    self.bdate = bdate\n",
        "    self.email = email\n",
        "    self.enemies = enemies\n",
        "    \n",
        "  def namedate(self):\n",
        "    return '{} {}'.format(self.name, self.bdate)\n",
        "  \n",
        "Roman_1 = Roman('Marcus Tullius Cicero', '106 BC', 'procaelio@pigeon.com', ['Mark Antony', 'Julius Caesar'])\n",
        "Roman_2 = Roman('Publius Ovidius Naso', '43 BC', 'arsamatoria@pigeon.com', ['Augustus Caesar'])\n",
        "  \n",
        "print(Roman_1.namedate())\n"
      ],
      "execution_count": 0,
      "outputs": [
        {
          "output_type": "stream",
          "text": [
            "Marcus Tullius Cicero 106 BC\n"
          ],
          "name": "stdout"
        }
      ]
    },
    {
      "cell_type": "markdown",
      "metadata": {
        "id": "OZYa2y8bCF1j",
        "colab_type": "text"
      },
      "source": [
        "An error message is triggered! \n",
        "\n",
        "\n",
        "\n",
        "```\n",
        "Type Error: namedate() takes 0 positional arguments but 1 was given\" --> its missing a positional argument, self\n",
        "```\n",
        "\n",
        "The instancce, which is Roman_1 is getting passed automatically, meaning it then takes the first argument. We have to expect that instance argument in our method"
      ]
    },
    {
      "cell_type": "markdown",
      "metadata": {
        "id": "CNMWnGYODdry",
        "colab_type": "text"
      },
      "source": [
        "We can also run these methods calling the class name itself, which tells us what exactly is happening in the background. When we run the class, we must pass through the instance as Roman_1. When we call the instance, Roman_1 and ask for the method, we do not need to pass through self, this is done automatically. In fact when we call on the instance, the code is essentially interpreted as calling upon the class, which then passes through the specified instance. This is why we must specify our methods with self as the first instance. This will be importance for inheritance. \n",
        "\n",
        "\n",
        "```\n",
        "Roman_1.namedate()\n",
        "```\n",
        "\n",
        "does the same exact thing as \n",
        "\n",
        "\n",
        "```\n",
        "Roman.namedate(Roman_1)\n",
        "\n",
        "```\n",
        "\n",
        "as shown below:"
      ]
    },
    {
      "cell_type": "code",
      "metadata": {
        "id": "NLy85PziC-_0",
        "colab_type": "code",
        "outputId": "223b370b-0e1b-4d09-b3dc-b082c6ef7445",
        "colab": {
          "base_uri": "https://localhost:8080/",
          "height": 33
        }
      },
      "source": [
        "print(Roman.namedate(Roman_1))"
      ],
      "execution_count": 0,
      "outputs": [
        {
          "output_type": "stream",
          "text": [
            "Marcus Tullius Cicero 106 BC\n"
          ],
          "name": "stdout"
        }
      ]
    },
    {
      "cell_type": "markdown",
      "metadata": {
        "id": "Fga4s7-vG3mQ",
        "colab_type": "text"
      },
      "source": [
        "## Lesson 2: Class variables \n",
        "\n",
        "### Class varibles: variables that are shared among all instances of a class . In contrast, instance variables are unique for each instance. \n",
        "\n",
        "Let's create an annual raise to our Romans, the amount can change for each Roman, but  its the same for percent for all."
      ]
    },
    {
      "cell_type": "code",
      "metadata": {
        "id": "INQbfh-HHal1",
        "colab_type": "code",
        "outputId": "392f7645-248c-4218-cc48-fc555fb1effd",
        "colab": {
          "base_uri": "https://localhost:8080/",
          "height": 50
        }
      },
      "source": [
        "class Roman: \n",
        "  def __init__(self, name, bdate, email, enemies, pay):\n",
        "    self.name = name\n",
        "    self.bdate = bdate\n",
        "    self.email = email\n",
        "    self.enemies = enemies\n",
        "    self.pay = pay\n",
        "    \n",
        "  def namedate(self):\n",
        "    return '{} {}'.format(self.name, self.bdate)\n",
        "  \n",
        "  def apply_raise(self):\n",
        "    self.pay = int (self.pay * 1.04)\n",
        "  \n",
        "Roman_1 = Roman('Marcus Tullius Cicero', '106 BC', 'procaelio@pigeon.com', ['Mark Antony', 'Julius Caesar'], 50000, )\n",
        "Roman_2 = Roman('Publius Ovidius Naso', '43 BC', 'arsamatoria@pigeon.com', ['Augustus Caesar'], 60000)\n",
        "\n",
        "print (Roman_1.pay)\n",
        "Roman_1.apply_raise()\n",
        "print (Roman_1.pay)"
      ],
      "execution_count": 0,
      "outputs": [
        {
          "output_type": "stream",
          "text": [
            "50000\n",
            "52000\n"
          ],
          "name": "stdout"
        }
      ]
    },
    {
      "cell_type": "markdown",
      "metadata": {
        "id": "jxgm0hijHSIS",
        "colab_type": "text"
      },
      "source": [
        "It worked. But there are a few short-comings.  First, it would be nice if we could access the raise amount by \n",
        "\n",
        "\n",
        "```\n",
        "Roman_1.raise_amount\n",
        "Roman.raise_amount\n",
        "```\n",
        "\n",
        "But the raise amount attribute doesn't currently exist so we can't see it's 4%. And what if we wanted to easily update the raise amount? We would have to change it manually, and if we used it in multiple calculations, we would have to laboriously copy&paste our update! \n",
        "\n",
        "### **We want to pull out the 4% and create a class variable:**\n",
        "\n",
        "\n",
        "```\n",
        "class Roman: \n",
        "  \n",
        "  raise_amount = 1.04\n",
        "  \n",
        "  def apply_raise(self):\n",
        "    self.pay = int (self.pay * raise_amount)\n",
        "```\n",
        "\n",
        "But this wouldn't work. As written, it would trigger \n",
        "\n",
        "\n",
        "\n",
        "```\n",
        "Name error: name 'raise_amount' is not defined \n",
        "```\n",
        "\n",
        "###**When we acesss these class variables, we need to access them through either the class itself or an instance of the class. **\n",
        "\n",
        "```\n",
        "  def apply_raise(self):\n",
        "    self.pay = int (self.pay * Roman.raise_amount)\n",
        "```\n",
        "\n",
        "\n",
        "We can also write \n",
        "\n",
        "```\n",
        "  def apply_raise(self):\n",
        "    self.pay = int (self.pay * self.raise_amount)\n",
        "```\n"
      ]
    },
    {
      "cell_type": "code",
      "metadata": {
        "id": "c4zemiTOKfNo",
        "colab_type": "code",
        "outputId": "c40a236a-d576-47b9-e643-1ff6be297d8b",
        "colab": {
          "base_uri": "https://localhost:8080/",
          "height": 50
        }
      },
      "source": [
        "class Roman: \n",
        "  \n",
        "  raise_amount = 1.04\n",
        "  \n",
        "  def __init__(self, name, bdate, email, enemies, pay):\n",
        "    self.name = name\n",
        "    self.bdate = bdate\n",
        "    self.email = email\n",
        "    self.enemies = enemies\n",
        "    self.pay = pay\n",
        "    \n",
        "  def namedate(self):\n",
        "    return '{} {}'.format(self.name, self.bdate)\n",
        "  \n",
        "  def apply_raise(self):\n",
        "    self.pay = int (self.pay * self.raise_amount)\n",
        "  \n",
        "Roman_1 = Roman('Marcus Tullius Cicero', '106 BC', 'procaelio@pigeon.com', ['Mark Antony', 'Julius Caesar'], 60000, )\n",
        "Roman_2 = Roman('Publius Ovidius Naso', '43 BC', 'arsamatoria@pigeon.com', ['Augustus Caesar'], 60000)\n",
        "\n",
        "print (Roman_1.pay)\n",
        "Roman_1.apply_raise()\n",
        "print (Roman_1.pay)"
      ],
      "execution_count": 0,
      "outputs": [
        {
          "output_type": "stream",
          "text": [
            "60000\n",
            "62400\n"
          ],
          "name": "stdout"
        }
      ]
    },
    {
      "cell_type": "markdown",
      "metadata": {
        "id": "Tq2pePlFMS8X",
        "colab_type": "text"
      },
      "source": [
        "When we check an attribute on an instance, it will first check if the instance contains that attribute. If it doesn't then, it will check whether the class or any class it inherits from contains that attribute. When we access our raise amount through our instances, they don't actually have that attribute themselves, they are accessing the class's raise_amount attribute. "
      ]
    },
    {
      "cell_type": "code",
      "metadata": {
        "id": "5yQJt0W1MgTC",
        "colab_type": "code",
        "outputId": "faf73f2c-74d5-41f9-905b-eeb9ff538d20",
        "colab": {
          "base_uri": "https://localhost:8080/",
          "height": 66
        }
      },
      "source": [
        "print (Roman.raise_amount)\n",
        "print(Roman_1.raise_amount)\n",
        "print(Roman_2.raise_amount)"
      ],
      "execution_count": 0,
      "outputs": [
        {
          "output_type": "stream",
          "text": [
            "1.04\n",
            "1.04\n",
            "1.04\n"
          ],
          "name": "stdout"
        }
      ]
    },
    {
      "cell_type": "markdown",
      "metadata": {
        "id": "9mWIYDaINfFG",
        "colab_type": "text"
      },
      "source": [
        "We can tell exactly which attributes an instance has by using the following code\n",
        "\n",
        "\n",
        "\n",
        "```\n",
        "print(Roman_1.__dict__)\n",
        "```\n",
        "\n",
        "Thus proving that raise_amount is not an attribute of the instance. "
      ]
    },
    {
      "cell_type": "code",
      "metadata": {
        "id": "J-zxFQ8yNXpI",
        "colab_type": "code",
        "outputId": "0b8afc5b-450f-4530-9750-24718522a472",
        "colab": {
          "base_uri": "https://localhost:8080/",
          "height": 53
        }
      },
      "source": [
        "print(Roman_1.__dict__)"
      ],
      "execution_count": 0,
      "outputs": [
        {
          "output_type": "stream",
          "text": [
            "{'name': 'Marcus Tullius Cicero', 'bdate': '106 BC', 'email': 'procaelio@pigeon.com', 'enemies': ['Mark Antony', 'Julius Caesar'], 'pay': 52000}\n"
          ],
          "name": "stdout"
        }
      ]
    },
    {
      "cell_type": "markdown",
      "metadata": {
        "id": "Dk0J3nSvOWCq",
        "colab_type": "text"
      },
      "source": [
        "When we investigate our Roman class, we find that raise_amount is an attribute of the class indeed."
      ]
    },
    {
      "cell_type": "code",
      "metadata": {
        "id": "DpdRFsaGN8dy",
        "colab_type": "code",
        "outputId": "527f2dea-88dc-4eb8-bcfd-19f75867a2a6",
        "colab": {
          "base_uri": "https://localhost:8080/",
          "height": 53
        }
      },
      "source": [
        "print(Roman.__dict__)"
      ],
      "execution_count": 0,
      "outputs": [
        {
          "output_type": "stream",
          "text": [
            "{'__module__': '__main__', 'raise_amount': 1.04, '__init__': <function Roman.__init__ at 0x7f3960f0ed08>, 'namedate': <function Roman.namedate at 0x7f3960f0eea0>, 'apply_raise': <function Roman.apply_raise at 0x7f3960f0ebf8>, '__dict__': <attribute '__dict__' of 'Roman' objects>, '__weakref__': <attribute '__weakref__' of 'Roman' objects>, '__doc__': None}\n"
          ],
          "name": "stdout"
        }
      ]
    },
    {
      "cell_type": "markdown",
      "metadata": {
        "id": "t6VZtP8OOgHa",
        "colab_type": "text"
      },
      "source": [
        "### We can call upon the class to change its attribute raise_amount:"
      ]
    },
    {
      "cell_type": "code",
      "metadata": {
        "id": "A8YHx9q-Oklh",
        "colab_type": "code",
        "outputId": "ec2001ef-1823-4c51-cb46-893def0cc995",
        "colab": {
          "base_uri": "https://localhost:8080/",
          "height": 66
        }
      },
      "source": [
        "Roman.raise_amount = 1.05 \n",
        "\n",
        "print (Roman.raise_amount)\n",
        "print(Roman_1.raise_amount)\n",
        "print(Roman_2.raise_amount)"
      ],
      "execution_count": 0,
      "outputs": [
        {
          "output_type": "stream",
          "text": [
            "1.05\n",
            "1.05\n",
            "1.05\n"
          ],
          "name": "stdout"
        }
      ]
    },
    {
      "cell_type": "markdown",
      "metadata": {
        "id": "OzQwnbGqPN8P",
        "colab_type": "text"
      },
      "source": [
        "### We can also change the attribute for a specific instance , in this case Roman_1:"
      ]
    },
    {
      "cell_type": "code",
      "metadata": {
        "id": "XpDfjC1UPThA",
        "colab_type": "code",
        "outputId": "9b5f2264-83f2-4ce9-c982-e921f98d447a",
        "colab": {
          "base_uri": "https://localhost:8080/",
          "height": 66
        }
      },
      "source": [
        "Roman_1.raise_amount = 1.06 \n",
        "\n",
        "print (Roman.raise_amount)\n",
        "print(Roman_1.raise_amount)\n",
        "print(Roman_2.raise_amount)"
      ],
      "execution_count": 0,
      "outputs": [
        {
          "output_type": "stream",
          "text": [
            "1.05\n",
            "1.06\n",
            "1.05\n"
          ],
          "name": "stdout"
        }
      ]
    },
    {
      "cell_type": "markdown",
      "metadata": {
        "id": "9gepnH4EPx9Z",
        "colab_type": "text"
      },
      "source": [
        "This is a little unexpected. It only affected one instance. \n",
        "\n",
        "**When we made this assignment, it created a raise_amount attribute within Roman_1's namespace**.  This is an important concept.  Roman_1 finds the attribute within its own namespace and returns that value -- 1.06, before going and searching the class. Roman_2 still carries the same default attribute of the class - 1.05.\n",
        "\n",
        "If we print back out Roman_1's namespace, under the new assignment, we can see this:"
      ]
    },
    {
      "cell_type": "code",
      "metadata": {
        "id": "h0vusbtDQEDl",
        "colab_type": "code",
        "outputId": "bf8fc522-b1bc-4e8b-95ba-0a7d2bdfdf67",
        "colab": {
          "base_uri": "https://localhost:8080/",
          "height": 53
        }
      },
      "source": [
        "print(Roman_1.__dict__)"
      ],
      "execution_count": 0,
      "outputs": [
        {
          "output_type": "stream",
          "text": [
            "{'name': 'Marcus Tullius Cicero', 'bdate': '106 BC', 'email': 'procaelio@pigeon.com', 'enemies': ['Mark Antony', 'Julius Caesar'], 'pay': 52000, 'raise_amount': 1.06}\n"
          ],
          "name": "stdout"
        }
      ]
    },
    {
      "cell_type": "markdown",
      "metadata": {
        "id": "93tHEXU3RXbr",
        "colab_type": "text"
      },
      "source": [
        "This is all possible because of the nuance in the initial code: the decision whether to access the class variable (raise_amount) in the method (the pay calculation) through either the class itself (Roman) or an instance of the class (self)\n",
        "\n",
        "By accessing the raise_amount using the instance of the class, we are able to change the amount for a single instance, if we want to. We will also allow any subclass to override this value, we will look at subclassing in a future lesson.\n",
        "\n",
        "```\n",
        "  def apply_raise(self):\n",
        "    self.pay = int (self.pay * self.raise_amount)\n",
        "```"
      ]
    },
    {
      "cell_type": "code",
      "metadata": {
        "id": "V6GOwyJTSZat",
        "colab_type": "code",
        "outputId": "3888a8c3-63b7-48e2-d6b1-46e956749b28",
        "colab": {
          "base_uri": "https://localhost:8080/",
          "height": 50
        }
      },
      "source": [
        "Roman_1.apply_raise()\n",
        "print (Roman_1.pay)\n",
        "\n",
        "Roman_2.apply_raise()\n",
        "print (Roman_2.pay)"
      ],
      "execution_count": 0,
      "outputs": [
        {
          "output_type": "stream",
          "text": [
            "64896\n",
            "62400\n"
          ],
          "name": "stdout"
        }
      ]
    },
    {
      "cell_type": "markdown",
      "metadata": {
        "id": "HlDkF82rS2ZZ",
        "colab_type": "text"
      },
      "source": [
        "In other cases, it doesn't make sense to use self and allow the amount to vary for each instance.   For example, let's say we want to count how many Romans we have. The number should be the same for all instances of our class.\n",
        "\n",
        "\n",
        "```\n",
        "Roman.num_of_Rom += 1\n",
        "```\n",
        "\n",
        "We want to use Roman.num_of_Rom not self.num_of_Rom because we do not want it to vary. "
      ]
    },
    {
      "cell_type": "code",
      "metadata": {
        "id": "hKwoXkImYy92",
        "colab_type": "code",
        "outputId": "0bc31e7f-2481-4c25-a288-1b2ac404a7a6",
        "colab": {
          "base_uri": "https://localhost:8080/",
          "height": 33
        }
      },
      "source": [
        "class Roman: \n",
        "  \n",
        "  num_of_Rom = 0\n",
        "  raise_amount = 1.04\n",
        "  \n",
        "  def __init__(self, name, bdate, email, enemies, pay):\n",
        "    self.name = name\n",
        "    self.bdate = bdate\n",
        "    self.email = email\n",
        "    self.enemies = enemies\n",
        "    self.pay = pay\n",
        "    \n",
        "    Roman.num_of_Rom += 1\n",
        "    \n",
        "  def namedate(self):\n",
        "    return '{} {}'.format(self.name, self.bdate)\n",
        "  \n",
        "  def apply_raise(self):\n",
        "    self.pay = int (self.pay * self.raise_amount)\n",
        "    \n",
        "\n",
        "Roman_1 = Roman('Marcus Tullius Cicero', '106 BC', 'procaelio@pigeon.com', ['Mark Antony', 'Julius Caesar'], 60000, )\n",
        "Roman_2 = Roman('Publius Ovidius Naso', '43 BC', 'arsamatoria@pigeon.com', ['Augustus Caesar'], 60000)\n",
        "\n",
        "print (Roman.num_of_Rom)"
      ],
      "execution_count": 0,
      "outputs": [
        {
          "output_type": "stream",
          "text": [
            "2\n"
          ],
          "name": "stdout"
        }
      ]
    },
    {
      "cell_type": "markdown",
      "metadata": {
        "id": "icJhzb83Z3ur",
        "colab_type": "text"
      },
      "source": [
        "The code printed 2 because it was incremented twice when we instantiated both of our Romans. If we moved it to before we instantiated our employees, it would print 0. "
      ]
    },
    {
      "cell_type": "markdown",
      "metadata": {
        "id": "l0dNjL3wUvE0",
        "colab_type": "text"
      },
      "source": [
        "## Lesson 3: Regular method, Classmethods and staticmethods\n",
        "\n",
        "### Regular Methods:  automatically take the instance as the first argument, which we call by convention \"self\"\n",
        "\n",
        "How can we change this so that it instead automatically takes the class as the first argument? We use **class methods**. To do this we add a decorator to the top **@classmethod**.  Decorators alter functionality of our method to where we recieve the class as our first argument instead of the instance. Just as with \"self\", there is a convention to call this \"**cls**\" We cannot use \"class\" as the variable name because that word already has a meaning in Python! It already was used to create a new class. Instead we will use cls as our class variable name.\n",
        "\n",
        "\n",
        "```\n",
        "@classmethod\n",
        "def set_raise_amount (cls, amount)\n",
        "  cls.raise_amount = amount\n",
        "\n",
        "```\n",
        "\n",
        "Now we can easily change the raise amount using our set_raise_amount method. It automatically accepts the class and accepts an amount. The reason the value updates to 1.05 is because we ran a set_raise_amout method, which is a class method, meaning we are working with a class instead of an instance. Thus, because we are performing a manipulation on a class variable, we need to create a class method. \n",
        "\n",
        "\n",
        "```\n",
        "Roman.set_raise_amount(1.05)\n",
        "```\n",
        "\n",
        "We could also potentially run a class method from the instance. The outcome is the same, the change affects all instances. \n",
        "\n",
        "```\n",
        "Roman_1.set_raise_amount(1.05)\n",
        "```"
      ]
    },
    {
      "cell_type": "code",
      "metadata": {
        "id": "Vewhb6EZZuVJ",
        "colab_type": "code",
        "outputId": "4ed732f9-0d47-4f46-90f6-452c314ec291",
        "colab": {
          "base_uri": "https://localhost:8080/",
          "height": 70
        }
      },
      "source": [
        "class Roman: \n",
        "  \n",
        "  num_of_Rom = 0\n",
        "  raise_amount = 1.04\n",
        "  \n",
        "  def __init__(self, name, bdate, pay):\n",
        "    self.name = name\n",
        "    self.bdate = bdate\n",
        "    self.pay = pay\n",
        "    \n",
        "    Roman.num_of_Rom += 1\n",
        "    \n",
        "  def namedate(self):\n",
        "    return '{} {}'.format(self.name, self.bdate)\n",
        "  \n",
        "  def apply_raise(self):\n",
        "    self.pay = int (self.pay * self.raise_amount)\n",
        "    \n",
        "  @classmethod\n",
        "  def set_raise_amount (cls, amount):\n",
        "    cls.raise_amount = amount\n",
        "\n",
        "Roman_1 = Roman('Marcus Tullius Cicero', '106 BC', 60000, )\n",
        "Roman_2 = Roman('Publius Ovidius Naso', '43 BC', 60000)\n",
        "\n",
        "Roman.set_raise_amount(1.05)\n",
        "\n",
        "print (Roman.raise_amount)\n",
        "print(Roman_1.raise_amount)\n",
        "print(Roman_2.raise_amount)"
      ],
      "execution_count": 0,
      "outputs": [
        {
          "output_type": "stream",
          "text": [
            "1.05\n",
            "1.05\n",
            "1.05\n"
          ],
          "name": "stdout"
        }
      ]
    },
    {
      "cell_type": "markdown",
      "metadata": {
        "id": "n9uh2wPNeW_V",
        "colab_type": "text"
      },
      "source": [
        "Class methods are also called alternative constructers. That means we can use the class methods to provide multiple ways of creating objects. For example, it can be used to automatically pass through a string to create an instances. \n",
        "\n",
        "\n",
        "\n",
        "```\n",
        "cls(name, pay)\n",
        "```\n",
        "\n",
        "This line create our new Roman. Now that we've created our new Roman, we must also return it, so that it can recieve recieve the Roman object when it is called. \n",
        "\n",
        "\n",
        "```\n",
        "return cls(name, pay)\n",
        "```\n",
        "\n",
        "So now our alternative constructer is done. This is what people mean when they say they use* class methods as alternative constructers*. \n"
      ]
    },
    {
      "cell_type": "code",
      "metadata": {
        "id": "iS6ogv1AgB-o",
        "colab_type": "code",
        "outputId": "4ce7059e-b03a-4de3-d5af-ae0c3b234527",
        "colab": {
          "base_uri": "https://localhost:8080/",
          "height": 70
        }
      },
      "source": [
        "class Roman: \n",
        "  \n",
        "  num_of_Rom = 0\n",
        "  raise_amount = 1.04\n",
        "  \n",
        "  def __init__(self, name, pay):\n",
        "    self.name = name\n",
        "    self.pay = pay\n",
        "    \n",
        "    Roman.num_of_Rom += 1\n",
        "    \n",
        "  def apply_raise(self):\n",
        "    self.pay = int (self.pay * self.raise_amount)\n",
        "    \n",
        "  @classmethod\n",
        "  def set_raise_amount (cls, amount):\n",
        "    cls.raise_amount = amount\n",
        "    \n",
        "  @classmethod\n",
        "  def from_string (cls,Roman_str):\n",
        "    name, pay = Roman_str.split('-')\n",
        "    return cls(name, pay)\n",
        "\n",
        "Roman_1 = Roman('Marcus Tullius Cicero', 60000, )\n",
        "Roman_2 = Roman('Publius Ovidius Naso', 60000)\n",
        "\n",
        "Roman.set_raise_amount(1.05)\n",
        "\n",
        "\n",
        "Roman_str_1 = 'Livia Drusilla-60000'\n",
        "Roman_str_2 = 'Tiberius Claudius Caesar-60000'\n",
        "\n",
        "new_Roman_1 = Roman.from_string(Roman_str_1)\n",
        "new_Roman_2 = Roman.from_string(Roman_str_2)\n",
        "\n",
        "\n",
        "print(new_Roman_1.name)\n",
        "print(new_Roman_2.name)\n",
        "print(Roman.num_of_Rom)\n"
      ],
      "execution_count": 0,
      "outputs": [
        {
          "output_type": "stream",
          "text": [
            "Livia Drusilla\n",
            "Tiberius Claudius Caesar\n",
            "4\n"
          ],
          "name": "stdout"
        }
      ]
    },
    {
      "cell_type": "markdown",
      "metadata": {
        "id": "k1Xe7UoZnfAd",
        "colab_type": "text"
      },
      "source": [
        "Static methods are often confused with class methods. Regular methods automatically pass the instance as the first argument (self). Class methods pass the class as the first argument (cls). \n",
        "\n",
        "###Static methods:  do not automatically pass either the instance OR the class. They behave just like normal functions. They are usually associated with classes because they have some logical association with class. \n",
        "\n",
        "Let's say we want a build a function that takes a date and automatically returns whether it is a workday. This does not depend on any instance or class variable. Thus we need to create a static method. To create it, we use a decorate, **@staticmethod**"
      ]
    },
    {
      "cell_type": "code",
      "metadata": {
        "id": "_Lm07FCnokoV",
        "colab_type": "code",
        "outputId": "dabcff74-1f77-4bc1-9d7b-2927b2e7c125",
        "colab": {
          "base_uri": "https://localhost:8080/",
          "height": 34
        }
      },
      "source": [
        "class Roman: \n",
        "  \n",
        "  num_of_Rom = 0\n",
        "  raise_amount = 1.04\n",
        "  \n",
        "  def __init__(self, name, pay):\n",
        "    self.name = name\n",
        "    self.pay = pay\n",
        "    \n",
        "    Roman.num_of_Rom += 1\n",
        "    \n",
        "  def apply_raise(self):\n",
        "    self.pay = int (self.pay * self.raise_amount)\n",
        "    \n",
        "  @classmethod\n",
        "  def set_raise_amount (cls, amount):\n",
        "    cls.raise_amount = amount\n",
        "    \n",
        "  @classmethod\n",
        "  def from_string (cls,Roman_str):\n",
        "    name, pay = Roman_str.split('-')\n",
        "    return cls(name, pay)\n",
        "  \n",
        "  @staticmethod\n",
        "  def is_workday(day):\n",
        "    if day.weekday() == 5 or day.weekday() == 6:\n",
        "      return False\n",
        "    return True\n",
        "\n",
        "Roman_1 = Roman('Marcus Tullius Cicero', 60000, )\n",
        "Roman_2 = Roman('Publius Ovidius Naso', 60000)\n",
        "\n",
        "import datetime\n",
        "my_date = datetime.date(2016, 7, 10)\n",
        "\n",
        "print(Roman.is_workday(my_date))\n"
      ],
      "execution_count": 0,
      "outputs": [
        {
          "output_type": "stream",
          "text": [
            "False\n"
          ],
          "name": "stdout"
        }
      ]
    },
    {
      "cell_type": "markdown",
      "metadata": {
        "id": "lJFeD7i-pkIi",
        "colab_type": "text"
      },
      "source": [
        "Sometimes people write regular methods or class methods that actually should be static method. \n",
        "\n",
        "**One way to tell you method should be a static method is if you don't access the instance or class anywhere within the function. **"
      ]
    },
    {
      "cell_type": "markdown",
      "metadata": {
        "id": "_BGUqQJhuBnW",
        "colab_type": "text"
      },
      "source": [
        "## Lesson 4: Inheritance - Creating Subclasses\n",
        "\n",
        "### Inheritance: allows us to inherit attributes and methods from a parent classes\n",
        "\n",
        "Subclasses get all the functionalities of their class, or add new functionality without affecting the parent class\n",
        "\n",
        "For example, let's say we want to create patricians and plebs. They will have all the variables of our other Roman instances - name, bdate, pay but additional features. "
      ]
    },
    {
      "cell_type": "code",
      "metadata": {
        "id": "lJ3XVoWluA6z",
        "colab_type": "code",
        "outputId": "e28052ac-1645-4e3e-cb7e-8f843eadac0d",
        "colab": {
          "base_uri": "https://localhost:8080/",
          "height": 718
        }
      },
      "source": [
        "class Roman: \n",
        "  \n",
        "  num_of_Rom = 0\n",
        "  raise_amount = 1.04\n",
        "  \n",
        "  def __init__(self, name, bdate, pay):\n",
        "    self.name = name\n",
        "    self.bdate = bdate\n",
        "    self.pay = pay\n",
        "    \n",
        "    Roman.num_of_Rom += 1\n",
        "    \n",
        "  def namedate(self):\n",
        "    return '{} {}'.format(self.name, self.bdate)\n",
        "  \n",
        "  def apply_raise(self):\n",
        "    self.pay = int (self.pay * self.raise_amount)\n",
        "    \n",
        "  @classmethod\n",
        "  def set_raise_amount (cls, amount):\n",
        "    cls.raise_amount = amount\n",
        "\n",
        "class Patrician (Roman):\n",
        "  pass\n",
        "  \n",
        "Patrician_1 = Patrician('Marcus Tullius Cicero', '106 BC', 60000, )\n",
        "Patrician_2 = Patrician('Publius Ovidius Naso', '43 BC', 60000)\n",
        "\n",
        "Roman.set_raise_amount(1.05)\n",
        "\n",
        "\n",
        "print(help(Patrician))\n",
        "\n",
        "\n"
      ],
      "execution_count": 0,
      "outputs": [
        {
          "output_type": "stream",
          "text": [
            "Help on class Patrician in module __main__:\n",
            "\n",
            "class Patrician(Roman)\n",
            " |  Method resolution order:\n",
            " |      Patrician\n",
            " |      Roman\n",
            " |      builtins.object\n",
            " |  \n",
            " |  Methods inherited from Roman:\n",
            " |  \n",
            " |  __init__(self, name, bdate, pay)\n",
            " |      Initialize self.  See help(type(self)) for accurate signature.\n",
            " |  \n",
            " |  apply_raise(self)\n",
            " |  \n",
            " |  namedate(self)\n",
            " |  \n",
            " |  ----------------------------------------------------------------------\n",
            " |  Class methods inherited from Roman:\n",
            " |  \n",
            " |  set_raise_amount(amount) from builtins.type\n",
            " |  \n",
            " |  ----------------------------------------------------------------------\n",
            " |  Data descriptors inherited from Roman:\n",
            " |  \n",
            " |  __dict__\n",
            " |      dictionary for instance variables (if defined)\n",
            " |  \n",
            " |  __weakref__\n",
            " |      list of weak references to the object (if defined)\n",
            " |  \n",
            " |  ----------------------------------------------------------------------\n",
            " |  Data and other attributes inherited from Roman:\n",
            " |  \n",
            " |  num_of_Rom = 2\n",
            " |  \n",
            " |  raise_amount = 1.05\n",
            "\n",
            "None\n"
          ],
          "name": "stdout"
        }
      ]
    },
    {
      "cell_type": "markdown",
      "metadata": {
        "id": "k2EIWKuMxA0N",
        "colab_type": "text"
      },
      "source": [
        "So now instead of creating two new Romans we create two new Patricians. We can now access the atrributes which were set in our parent Roman class. When we instantiated our patricians, it first looked at our Patrician class for our init method. However, we did not init in our Patrician class. Python works up the chain of inheritance until it finds the method it is looking for. This chain is called the** method resolutioin order. ** These are the places that Python searches for attributes and methods. \n",
        "\n",
        "If it does not find the method in the highest order class, it inherits the methods of the builtins object class. \n",
        "\n",
        "Now lets say we want to customize our subclass. Let's try changing our raise amount for our Patrician subclass from 4% to 10%"
      ]
    },
    {
      "cell_type": "code",
      "metadata": {
        "id": "Oor2ZvXgzOJC",
        "colab_type": "code",
        "outputId": "839c6541-c9af-4839-94a4-aaee2edc04f6",
        "colab": {
          "base_uri": "https://localhost:8080/",
          "height": 52
        }
      },
      "source": [
        "class Roman: \n",
        "  \n",
        "  num_of_Rom = 0\n",
        "  raise_amount = 1.04\n",
        "  \n",
        "  def __init__(self, name, bdate, pay):\n",
        "    self.name = name\n",
        "    self.bdate = bdate\n",
        "    self.pay = pay\n",
        "    \n",
        "    Roman.num_of_Rom += 1\n",
        "    \n",
        "  def namedate(self):\n",
        "    return '{} {}'.format(self.name, self.bdate)\n",
        "  \n",
        "  def apply_raise(self):\n",
        "    self.pay = int (self.pay * self.raise_amount)\n",
        "    \n",
        "  @classmethod\n",
        "  def set_raise_amount (cls, amount):\n",
        "    cls.raise_amount = amount\n",
        "\n",
        "class Patrician (Roman):\n",
        "  raise_amount = 1.10\n",
        "  \n",
        "Patrician_1 = Patrician('Marcus Tullius Cicero', '106 BC', 60000, )\n",
        "Patrician_2 = Patrician('Publius Ovidius Naso', '43 BC', 60000)\n",
        "\n",
        "Roman.set_raise_amount(1.05)\n",
        "\n",
        "\n",
        "print(Patrician_1.pay)\n",
        "Patrician_1.apply_raise()\n",
        "print(Patrician_1.pay)"
      ],
      "execution_count": 0,
      "outputs": [
        {
          "output_type": "stream",
          "text": [
            "60000\n",
            "66000\n"
          ],
          "name": "stdout"
        }
      ]
    },
    {
      "cell_type": "markdown",
      "metadata": {
        "id": "sn8t6xgmz6V6",
        "colab_type": "text"
      },
      "source": [
        "Success, we lined Cicero's pockets! \n",
        "\n",
        "Now let's say we want to supply more information about our subclass than our parent class can handle. "
      ]
    }
  ]
}